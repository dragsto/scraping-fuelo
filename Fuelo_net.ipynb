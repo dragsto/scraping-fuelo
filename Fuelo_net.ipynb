{
  "nbformat": 4,
  "nbformat_minor": 0,
  "metadata": {
    "colab": {
      "provenance": []
    },
    "kernelspec": {
      "name": "python3",
      "display_name": "Python 3"
    },
    "language_info": {
      "name": "python"
    }
  },
  "cells": [
    {
      "cell_type": "code",
      "execution_count": null,
      "metadata": {
        "id": "Tc6vxdDVrdLL"
      },
      "outputs": [],
      "source": [
        "import re\n",
        "import json, csv\n",
        "import requests\n",
        "from datetime import datetime\n",
        "\n",
        "r = requests.get('https://de.fuelo.net/fuel/type/lpg/3years?lang=en') # <--link goes here\n",
        "\n",
        "regex_pattern = re.compile(r'var data =.*?\"values\":(.*?)}', re.MULTILINE | re.DOTALL)\n",
        "regex_search = regex_pattern.search(r.text)\n",
        "\n",
        "json_object = json.loads(regex_search[1])\n",
        "\n",
        "for j in json_object:\n",
        "    j[0] = datetime.fromtimestamp(j[0]/1000.0).strftime(\"%Y-%m-%d\")\n",
        "\n",
        "headers = ['Date', 'Avg Price']\n",
        "\n",
        "with open('prices.csv', 'w', encoding='UTF8') as file:\n",
        "    writer = csv.writer(file)\n",
        "    writer.writerow(headers)\n",
        "    for j in json_object:\n",
        "        writer.writerow(j)"
      ]
    }
  ]
}